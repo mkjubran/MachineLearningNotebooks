{
  "nbformat": 4,
  "nbformat_minor": 0,
  "metadata": {
    "colab": {
      "name": "Pytorch_NN.ipynb",
      "provenance": [],
      "collapsed_sections": [],
      "authorship_tag": "ABX9TyOthdIRl8ZkHW0h5SwaB21k",
      "include_colab_link": true
    },
    "kernelspec": {
      "name": "python3",
      "display_name": "Python 3"
    },
    "language_info": {
      "name": "python"
    }
  },
  "cells": [
    {
      "cell_type": "markdown",
      "metadata": {
        "id": "view-in-github",
        "colab_type": "text"
      },
      "source": [
        "<a href=\"https://colab.research.google.com/github/mkjubran/MachineLearningNotebooks/blob/master/Pytorch_NN.ipynb\" target=\"_parent\"><img src=\"https://colab.research.google.com/assets/colab-badge.svg\" alt=\"Open In Colab\"/></a>"
      ]
    },
    {
      "cell_type": "markdown",
      "metadata": {
        "id": "WrzHCwri2hG2"
      },
      "source": [
        "# Case #1: MNIST DATASET"
      ]
    },
    {
      "cell_type": "markdown",
      "metadata": {
        "id": "1ebsXp6i2whq"
      },
      "source": [
        "**Loading Packages - Libraries**"
      ]
    },
    {
      "cell_type": "code",
      "metadata": {
        "id": "LW0BzwvM2ywp"
      },
      "source": [
        "import torch\n",
        "from torch import nn\n",
        "from torch.utils.data import DataLoader\n",
        "from torchvision import datasets\n",
        "from torchvision.transforms import ToTensor, Lambda, Compose\n",
        "import matplotlib.pyplot as plt\n",
        "import pdb"
      ],
      "execution_count": 154,
      "outputs": []
    },
    {
      "cell_type": "markdown",
      "metadata": {
        "id": "xNPAAXyo21Aj"
      },
      "source": [
        "**Loading Dataset**"
      ]
    },
    {
      "cell_type": "code",
      "metadata": {
        "id": "R28wPVq923tA"
      },
      "source": [
        "# Download training data from open datasets.\n",
        "training_data = datasets.MNIST(\n",
        "    root=\"data\",\n",
        "    train=True,\n",
        "    download=True,\n",
        "    transform=ToTensor(),\n",
        ")\n",
        "\n",
        "# Download test data from open datasets.\n",
        "test_data = datasets.MNIST(\n",
        "    root=\"data\",\n",
        "    train=False,\n",
        "    download=True,\n",
        "    transform=ToTensor(),\n",
        ")"
      ],
      "execution_count": 155,
      "outputs": []
    },
    {
      "cell_type": "markdown",
      "metadata": {
        "id": "dL-evVWv2_Kp"
      },
      "source": [
        "**Creating Dataloader**"
      ]
    },
    {
      "cell_type": "code",
      "metadata": {
        "colab": {
          "base_uri": "https://localhost:8080/"
        },
        "id": "ZTflDCCf3CI0",
        "outputId": "7a0ce125-ac34-4a74-db4a-ac45daea9e8b"
      },
      "source": [
        "batch_size = 64\n",
        "\n",
        "# Create data loaders.\n",
        "train_dataloader = DataLoader(training_data, batch_size=batch_size)\n",
        "test_dataloader = DataLoader(test_data, batch_size=batch_size)\n",
        "\n",
        "for X, y in test_dataloader:\n",
        "    print(\"Shape of X [N, C, H, W]: \", X.shape)\n",
        "    print(\"Shape of y: \", y.shape, y.dtype)\n",
        "    break"
      ],
      "execution_count": 156,
      "outputs": [
        {
          "output_type": "stream",
          "name": "stdout",
          "text": [
            "Shape of X [N, C, H, W]:  torch.Size([64, 1, 28, 28])\n",
            "Shape of y:  torch.Size([64]) torch.int64\n"
          ]
        }
      ]
    },
    {
      "cell_type": "markdown",
      "metadata": {
        "id": "xNW1-UH53GIh"
      },
      "source": [
        "**Creating Models**"
      ]
    },
    {
      "cell_type": "code",
      "metadata": {
        "colab": {
          "base_uri": "https://localhost:8080/"
        },
        "id": "6-Bk_Ub03J6D",
        "outputId": "16f2cf24-ab16-438f-8f0e-2cc54f11e31e"
      },
      "source": [
        "# Get cpu or gpu device for training.\n",
        "device = \"cuda\" if torch.cuda.is_available() else \"cpu\"\n",
        "print(\"Using {} device\".format(device))\n",
        "\n",
        "# Define model\n",
        "class NeuralNetwork(nn.Module):\n",
        "    def __init__(self):\n",
        "        super(NeuralNetwork, self).__init__()\n",
        "        self.flatten = nn.Flatten()\n",
        "        self.linear_relu_stack = nn.Sequential(\n",
        "            nn.Linear(28*28, 512),\n",
        "            nn.ReLU(),\n",
        "            nn.Linear(512, 512),\n",
        "            nn.ReLU(),\n",
        "            nn.Linear(512, 10)\n",
        "        )\n",
        "\n",
        "    def forward(self, x):\n",
        "        x = self.flatten(x)\n",
        "        logits = self.linear_relu_stack(x)\n",
        "        return logits\n",
        "\n",
        "model = NeuralNetwork().to(device)\n",
        "print(model)"
      ],
      "execution_count": 157,
      "outputs": [
        {
          "output_type": "stream",
          "name": "stdout",
          "text": [
            "Using cpu device\n",
            "NeuralNetwork(\n",
            "  (flatten): Flatten(start_dim=1, end_dim=-1)\n",
            "  (linear_relu_stack): Sequential(\n",
            "    (0): Linear(in_features=784, out_features=512, bias=True)\n",
            "    (1): ReLU()\n",
            "    (2): Linear(in_features=512, out_features=512, bias=True)\n",
            "    (3): ReLU()\n",
            "    (4): Linear(in_features=512, out_features=10, bias=True)\n",
            "  )\n",
            ")\n"
          ]
        }
      ]
    },
    {
      "cell_type": "markdown",
      "metadata": {
        "id": "_ck7mSIY3N2h"
      },
      "source": [
        "**Optimizing the Model Parameters**"
      ]
    },
    {
      "cell_type": "markdown",
      "metadata": {
        "id": "leO7-B7V3Qpw"
      },
      "source": [
        "Defining the loss function and an optimizer."
      ]
    },
    {
      "cell_type": "code",
      "metadata": {
        "id": "nb-_Qjj23Tjw"
      },
      "source": [
        "loss_fn = nn.CrossEntropyLoss()\n",
        "optimizer = torch.optim.SGD(model.parameters(), lr=1e-3)"
      ],
      "execution_count": 158,
      "outputs": []
    },
    {
      "cell_type": "markdown",
      "metadata": {
        "id": "sZW97p6-3UNL"
      },
      "source": [
        "Training Loop"
      ]
    },
    {
      "cell_type": "code",
      "metadata": {
        "id": "YJqiK8ec3WFa"
      },
      "source": [
        "def train(dataloader, model, loss_fn, optimizer):\n",
        "    size = len(dataloader.dataset)\n",
        "    model.train()\n",
        "    correct = 0\n",
        "    for batch, (X, y) in enumerate(dataloader):\n",
        "        X, y = X.to(device), y.to(device)\n",
        "\n",
        "        # Compute prediction error\n",
        "        pred = model(X)\n",
        "        loss = loss_fn(pred, y)\n",
        "\n",
        "        # Backpropagation\n",
        "        optimizer.zero_grad()\n",
        "        loss.backward()\n",
        "        optimizer.step()\n",
        "\n",
        "        if batch % 100 == 0:\n",
        "            loss, current = loss.item(), batch * len(X)\n",
        "            print(f\"loss: {loss:>7f}  [{current:>5d}/{size:>5d}]\")\n",
        "        correct += (pred.argmax(1) == y).type(torch.float).sum().item()\n",
        "    correct /= size\n",
        "    return (100*correct), loss"
      ],
      "execution_count": 159,
      "outputs": []
    },
    {
      "cell_type": "markdown",
      "metadata": {
        "id": "4FRPtX4J3Wfs"
      },
      "source": [
        "Testing Loop"
      ]
    },
    {
      "cell_type": "code",
      "metadata": {
        "id": "IRxp4BRm3gVa"
      },
      "source": [
        "def test(dataloader, model, loss_fn):\n",
        "    size = len(dataloader.dataset)\n",
        "    num_batches = len(dataloader)\n",
        "    model.eval()\n",
        "    test_loss, correct = 0, 0\n",
        "    with torch.no_grad():\n",
        "        for X, y in dataloader:\n",
        "            X, y = X.to(device), y.to(device)\n",
        "            pred = model(X)\n",
        "            test_loss += loss_fn(pred, y).item()\n",
        "            correct += (pred.argmax(1) == y).type(torch.float).sum().item()\n",
        "    test_loss /= num_batches\n",
        "    correct /= size\n",
        "    print(f\"Test Error: \\n Accuracy: {(100*correct):>0.1f}%, Avg loss: {test_loss:>8f} \\n\")\n",
        "    return (100*correct), test_loss"
      ],
      "execution_count": 160,
      "outputs": []
    },
    {
      "cell_type": "markdown",
      "metadata": {
        "id": "ufTbkxHc3k9k"
      },
      "source": [
        "Running Training and Testing"
      ]
    },
    {
      "cell_type": "code",
      "metadata": {
        "colab": {
          "base_uri": "https://localhost:8080/"
        },
        "id": "jahEtKxv3oYX",
        "outputId": "b448bb00-3181-4d85-be3d-4724de05c838"
      },
      "source": [
        "epochs = 10\n",
        "Training_accuracy=[]\n",
        "Training_loss=[]\n",
        "Testing_accuracy=[]\n",
        "Testing_loss=[]\n",
        "for t in range(epochs):\n",
        "    print(f\"Epoch {t+1}\\n-------------------------------\")\n",
        "    TrainAcc, TrainLoss = train(train_dataloader, model, loss_fn, optimizer)\n",
        "    TestAcc, TestLoss = test(test_dataloader, model, loss_fn)\n",
        "    Training_accuracy.append(TrainAcc)\n",
        "    Training_loss.append(TrainLoss)\n",
        "    Testing_accuracy.append(TestAcc)\n",
        "    Testing_loss.append(TestLoss)\n",
        "print(\"Done!\")"
      ],
      "execution_count": 161,
      "outputs": [
        {
          "output_type": "stream",
          "name": "stdout",
          "text": [
            "Epoch 1\n",
            "-------------------------------\n",
            "loss: 2.301750  [    0/60000]\n",
            "loss: 2.296701  [ 6400/60000]\n",
            "loss: 2.292371  [12800/60000]\n",
            "loss: 2.290238  [19200/60000]\n",
            "loss: 2.285455  [25600/60000]\n",
            "loss: 2.277559  [32000/60000]\n",
            "loss: 2.266072  [38400/60000]\n",
            "loss: 2.280390  [44800/60000]\n",
            "loss: 2.262573  [51200/60000]\n",
            "loss: 2.257452  [57600/60000]\n",
            "Test Error: \n",
            " Accuracy: 44.6%, Avg loss: 2.255163 \n",
            "\n",
            "Epoch 2\n",
            "-------------------------------\n",
            "loss: 2.254154  [    0/60000]\n",
            "loss: 2.246781  [ 6400/60000]\n",
            "loss: 2.254221  [12800/60000]\n",
            "loss: 2.226737  [19200/60000]\n",
            "loss: 2.235581  [25600/60000]\n",
            "loss: 2.225604  [32000/60000]\n",
            "loss: 2.200991  [38400/60000]\n",
            "loss: 2.232912  [44800/60000]\n",
            "loss: 2.197639  [51200/60000]\n",
            "loss: 2.186064  [57600/60000]\n",
            "Test Error: \n",
            " Accuracy: 57.4%, Avg loss: 2.187866 \n",
            "\n",
            "Epoch 3\n",
            "-------------------------------\n",
            "loss: 2.187385  [    0/60000]\n",
            "loss: 2.172802  [ 6400/60000]\n",
            "loss: 2.194363  [12800/60000]\n",
            "loss: 2.133392  [19200/60000]\n",
            "loss: 2.157438  [25600/60000]\n",
            "loss: 2.141305  [32000/60000]\n",
            "loss: 2.097116  [38400/60000]\n",
            "loss: 2.154508  [44800/60000]\n",
            "loss: 2.092662  [51200/60000]\n",
            "loss: 2.068927  [57600/60000]\n",
            "Test Error: \n",
            " Accuracy: 64.1%, Avg loss: 2.074782 \n",
            "\n",
            "Epoch 4\n",
            "-------------------------------\n",
            "loss: 2.076177  [    0/60000]\n",
            "loss: 2.045315  [ 6400/60000]\n",
            "loss: 2.088668  [12800/60000]\n",
            "loss: 1.980942  [19200/60000]\n",
            "loss: 2.019106  [25600/60000]\n",
            "loss: 1.991365  [32000/60000]\n",
            "loss: 1.924205  [38400/60000]\n",
            "loss: 2.016640  [44800/60000]\n",
            "loss: 1.917534  [51200/60000]\n",
            "loss: 1.875515  [57600/60000]\n",
            "Test Error: \n",
            " Accuracy: 69.7%, Avg loss: 1.881283 \n",
            "\n",
            "Epoch 5\n",
            "-------------------------------\n",
            "loss: 1.889020  [    0/60000]\n",
            "loss: 1.828050  [ 6400/60000]\n",
            "loss: 1.900569  [12800/60000]\n",
            "loss: 1.742374  [19200/60000]\n",
            "loss: 1.782885  [25600/60000]\n",
            "loss: 1.738275  [32000/60000]\n",
            "loss: 1.658302  [38400/60000]\n",
            "loss: 1.792341  [44800/60000]\n",
            "loss: 1.651572  [51200/60000]\n",
            "loss: 1.591687  [57600/60000]\n",
            "Test Error: \n",
            " Accuracy: 72.9%, Avg loss: 1.590463 \n",
            "\n",
            "Epoch 6\n",
            "-------------------------------\n",
            "loss: 1.615124  [    0/60000]\n",
            "loss: 1.514131  [ 6400/60000]\n",
            "loss: 1.616376  [12800/60000]\n",
            "loss: 1.430905  [19200/60000]\n",
            "loss: 1.457954  [25600/60000]\n",
            "loss: 1.406060  [32000/60000]\n",
            "loss: 1.333302  [38400/60000]\n",
            "loss: 1.499892  [44800/60000]\n",
            "loss: 1.344187  [51200/60000]\n",
            "loss: 1.277826  [57600/60000]\n",
            "Test Error: \n",
            " Accuracy: 76.1%, Avg loss: 1.269695 \n",
            "\n",
            "Epoch 7\n",
            "-------------------------------\n",
            "loss: 1.320069  [    0/60000]\n",
            "loss: 1.191763  [ 6400/60000]\n",
            "loss: 1.305185  [12800/60000]\n",
            "loss: 1.138786  [19200/60000]\n",
            "loss: 1.156783  [25600/60000]\n",
            "loss: 1.103093  [32000/60000]\n",
            "loss: 1.048465  [38400/60000]\n",
            "loss: 1.226457  [44800/60000]\n",
            "loss: 1.094208  [51200/60000]\n",
            "loss: 1.031964  [57600/60000]\n",
            "Test Error: \n",
            " Accuracy: 78.8%, Avg loss: 1.019495 \n",
            "\n",
            "Epoch 8\n",
            "-------------------------------\n",
            "loss: 1.091210  [    0/60000]\n",
            "loss: 0.952104  [ 6400/60000]\n",
            "loss: 1.059594  [12800/60000]\n",
            "loss: 0.931103  [19200/60000]\n",
            "loss: 0.948780  [25600/60000]\n",
            "loss: 0.888662  [32000/60000]\n",
            "loss: 0.850156  [38400/60000]\n",
            "loss: 1.025315  [44800/60000]\n",
            "loss: 0.924644  [51200/60000]\n",
            "loss: 0.870985  [57600/60000]\n",
            "Test Error: \n",
            " Accuracy: 80.6%, Avg loss: 0.851657 \n",
            "\n",
            "Epoch 9\n",
            "-------------------------------\n",
            "loss: 0.934027  [    0/60000]\n",
            "loss: 0.792400  [ 6400/60000]\n",
            "loss: 0.888411  [12800/60000]\n",
            "loss: 0.793600  [19200/60000]\n",
            "loss: 0.811135  [25600/60000]\n",
            "loss: 0.745532  [32000/60000]\n",
            "loss: 0.715379  [38400/60000]\n",
            "loss: 0.884204  [44800/60000]\n",
            "loss: 0.809277  [51200/60000]\n",
            "loss: 0.766512  [57600/60000]\n",
            "Test Error: \n",
            " Accuracy: 82.1%, Avg loss: 0.737726 \n",
            "\n",
            "Epoch 10\n",
            "-------------------------------\n",
            "loss: 0.824228  [    0/60000]\n",
            "loss: 0.681819  [ 6400/60000]\n",
            "loss: 0.767173  [12800/60000]\n",
            "loss: 0.700403  [19200/60000]\n",
            "loss: 0.714684  [25600/60000]\n",
            "loss: 0.648270  [32000/60000]\n",
            "loss: 0.618920  [38400/60000]\n",
            "loss: 0.783402  [44800/60000]\n",
            "loss: 0.726268  [51200/60000]\n",
            "loss: 0.696119  [57600/60000]\n",
            "Test Error: \n",
            " Accuracy: 83.5%, Avg loss: 0.656779 \n",
            "\n",
            "Done!\n"
          ]
        }
      ]
    },
    {
      "cell_type": "markdown",
      "metadata": {
        "id": "WR6fKxuY3yLd"
      },
      "source": [
        "**Plotting Accuracy Curves**"
      ]
    },
    {
      "cell_type": "code",
      "metadata": {
        "colab": {
          "base_uri": "https://localhost:8080/",
          "height": 279
        },
        "id": "fCl9RpiW34c8",
        "outputId": "35b52795-aeff-4694-fd8c-e74ea5f010e7"
      },
      "source": [
        "epochs = range(len(Training_accuracy))\n",
        "plt.plot(epochs, Training_accuracy,'--s',label='Train')\n",
        "plt.plot(epochs, Testing_accuracy,':o',label='Test')\n",
        "plt.xlabel(\"epochs\")\n",
        "plt.ylabel(\"Accuracy\")\n",
        "plt.legend()\n",
        "plt.show()"
      ],
      "execution_count": 162,
      "outputs": [
        {
          "output_type": "display_data",
          "data": {
            "image/png": "[encoded data removed]",
            "text/plain": [
              "<Figure size 432x288 with 1 Axes>"
            ]
          },
          "metadata": {
            "needs_background": "light"
          }
        }
      ]
    },
    {
      "cell_type": "markdown",
      "metadata": {
        "id": "IuGouNc93-uc"
      },
      "source": [
        "**Saving Models**"
      ]
    },
    {
      "cell_type": "code",
      "metadata": {
        "colab": {
          "base_uri": "https://localhost:8080/"
        },
        "id": "txVPiZbB4Bei",
        "outputId": "0e4f4b37-184d-4b37-a775-57895152233f"
      },
      "source": [
        "torch.save(model.state_dict(), \"model.pth\")\n",
        "print(\"Saved PyTorch Model State to model.pth\")"
      ],
      "execution_count": 163,
      "outputs": [
        {
          "output_type": "stream",
          "name": "stdout",
          "text": [
            "Saved PyTorch Model State to model.pth\n"
          ]
        }
      ]
    },
    {
      "cell_type": "markdown",
      "metadata": {
        "id": "S8ULRYO84En2"
      },
      "source": [
        "**Loading Models**"
      ]
    },
    {
      "cell_type": "code",
      "metadata": {
        "colab": {
          "base_uri": "https://localhost:8080/"
        },
        "id": "1UdVE_nc4JR1",
        "outputId": "6010e1d6-abac-49dc-a2ae-b13079e46635"
      },
      "source": [
        "model = NeuralNetwork()\n",
        "model.load_state_dict(torch.load(\"model.pth\"))"
      ],
      "execution_count": 164,
      "outputs": [
        {
          "output_type": "execute_result",
          "data": {
            "text/plain": [
              "<All keys matched successfully>"
            ]
          },
          "metadata": {},
          "execution_count": 164
        }
      ]
    },
    {
      "cell_type": "markdown",
      "metadata": {
        "id": "ZatbImbX4PNw"
      },
      "source": [
        "**Predictions**\n",
        "\n",
        "This model can now be used to make predictions."
      ]
    },
    {
      "cell_type": "code",
      "metadata": {
        "colab": {
          "base_uri": "https://localhost:8080/"
        },
        "id": "9ryGn1Zr4X3V",
        "outputId": "76a1b609-8f72-4e2f-8d2c-f34004106783"
      },
      "source": [
        "classes = [\n",
        "    \"Zero\",\n",
        "    \"One\",\n",
        "    \"Two\",\n",
        "    \"Three\",\n",
        "    \"Four\",\n",
        "    \"Five\",\n",
        "    \"Six\",\n",
        "    \"Seven\",\n",
        "    \"Eight\",\n",
        "    \"Nine\",\n",
        "]\n",
        "\n",
        "model.eval()\n",
        "x, y = test_data[0][0], test_data[0][1]\n",
        "with torch.no_grad():\n",
        "    pred = model(x)\n",
        "    predicted, actual = classes[pred[0].argmax(0)], classes[y]\n",
        "    print(f'Predicted: \"{predicted}\", Actual: \"{actual}\"')"
      ],
      "execution_count": 166,
      "outputs": [
        {
          "output_type": "stream",
          "name": "stdout",
          "text": [
            "Predicted: \"Seven\", Actual: \"Seven\"\n"
          ]
        }
      ]
    },
    {
      "cell_type": "markdown",
      "metadata": {
        "id": "oI8iQ4g-U_Ao"
      },
      "source": [
        "# Case #2: FashionMNIST DATASET"
      ]
    },
    {
      "cell_type": "markdown",
      "metadata": {
        "id": "3Z0WpHn2PvS3"
      },
      "source": [
        "**Loading Packages - Libraries**"
      ]
    },
    {
      "cell_type": "code",
      "metadata": {
        "id": "8fLzE7Y9Pdw5"
      },
      "source": [
        "import torch\n",
        "from torch import nn\n",
        "from torch.utils.data import DataLoader\n",
        "from torchvision import datasets\n",
        "from torchvision.transforms import ToTensor, Lambda, Compose\n",
        "import matplotlib.pyplot as plt\n",
        "import pdb"
      ],
      "execution_count": 60,
      "outputs": []
    },
    {
      "cell_type": "markdown",
      "metadata": {
        "id": "bo_GtfC9P1Zr"
      },
      "source": [
        "**Loading Dataset**"
      ]
    },
    {
      "cell_type": "code",
      "metadata": {
        "id": "VVfjD5FKPzuB"
      },
      "source": [
        "# Download training data from open datasets.\n",
        "training_data = datasets.FashionMNIST(\n",
        "    root=\"data\",\n",
        "    train=True,\n",
        "    download=True,\n",
        "    transform=ToTensor(),\n",
        ")\n",
        "\n",
        "# Download test data from open datasets.\n",
        "test_data = datasets.FashionMNIST(\n",
        "    root=\"data\",\n",
        "    train=False,\n",
        "    download=True,\n",
        "    transform=ToTensor(),\n",
        ")"
      ],
      "execution_count": 61,
      "outputs": []
    },
    {
      "cell_type": "markdown",
      "metadata": {
        "id": "9lJuzcFxQbHc"
      },
      "source": [
        "**Creating Dataloader**"
      ]
    },
    {
      "cell_type": "code",
      "metadata": {
        "colab": {
          "base_uri": "https://localhost:8080/"
        },
        "id": "uwvqApyGQbeb",
        "outputId": "2eedf82a-d0ec-4e3e-9501-dacaf950efb2"
      },
      "source": [
        "batch_size = 64\n",
        "\n",
        "# Create data loaders.\n",
        "train_dataloader = DataLoader(training_data, batch_size=batch_size)\n",
        "test_dataloader = DataLoader(test_data, batch_size=batch_size)\n",
        "\n",
        "for X, y in test_dataloader:\n",
        "    print(\"Shape of X [N, C, H, W]: \", X.shape)\n",
        "    print(\"Shape of y: \", y.shape, y.dtype)\n",
        "    break"
      ],
      "execution_count": 62,
      "outputs": [
        {
          "output_type": "stream",
          "name": "stdout",
          "text": [
            "Shape of X [N, C, H, W]:  torch.Size([64, 1, 28, 28])\n",
            "Shape of y:  torch.Size([64]) torch.int64\n"
          ]
        }
      ]
    },
    {
      "cell_type": "markdown",
      "metadata": {
        "id": "fkxFmQSbQ1yS"
      },
      "source": [
        "**Creating Models**"
      ]
    },
    {
      "cell_type": "code",
      "metadata": {
        "colab": {
          "base_uri": "https://localhost:8080/"
        },
        "id": "txRg-DjCQ2NX",
        "outputId": "6d549fbb-9cf5-44c8-8dc4-d243f3386b1a"
      },
      "source": [
        "# Get cpu or gpu device for training.\n",
        "device = \"cuda\" if torch.cuda.is_available() else \"cpu\"\n",
        "print(\"Using {} device\".format(device))\n",
        "\n",
        "# Define model\n",
        "class NeuralNetwork(nn.Module):\n",
        "    def __init__(self):\n",
        "        super(NeuralNetwork, self).__init__()\n",
        "        self.flatten = nn.Flatten()\n",
        "        self.linear_relu_stack = nn.Sequential(\n",
        "            nn.Linear(28*28, 512),\n",
        "            nn.ReLU(),\n",
        "            nn.Linear(512, 512),\n",
        "            nn.ReLU(),\n",
        "            nn.Linear(512, 10)\n",
        "        )\n",
        "\n",
        "    def forward(self, x):\n",
        "        x = self.flatten(x)\n",
        "        logits = self.linear_relu_stack(x)\n",
        "        return logits\n",
        "\n",
        "model = NeuralNetwork().to(device)\n",
        "print(model)"
      ],
      "execution_count": 138,
      "outputs": [
        {
          "output_type": "stream",
          "name": "stdout",
          "text": [
            "Using cpu device\n",
            "NeuralNetwork(\n",
            "  (flatten): Flatten(start_dim=1, end_dim=-1)\n",
            "  (linear_relu_stack): Sequential(\n",
            "    (0): Linear(in_features=784, out_features=512, bias=True)\n",
            "    (1): ReLU()\n",
            "    (2): Linear(in_features=512, out_features=512, bias=True)\n",
            "    (3): ReLU()\n",
            "    (4): Linear(in_features=512, out_features=10, bias=True)\n",
            "  )\n",
            ")\n"
          ]
        }
      ]
    },
    {
      "cell_type": "markdown",
      "metadata": {
        "id": "gShMOCSFRI2G"
      },
      "source": [
        "**Optimizing the Model Parameters**"
      ]
    },
    {
      "cell_type": "markdown",
      "metadata": {
        "id": "6MFGFL0OSBbT"
      },
      "source": [
        "Defining the loss function and an optimizer."
      ]
    },
    {
      "cell_type": "code",
      "metadata": {
        "id": "bYWhuCDHSB-S"
      },
      "source": [
        "loss_fn = nn.CrossEntropyLoss()\n",
        "optimizer = torch.optim.SGD(model.parameters(), lr=1e-3)"
      ],
      "execution_count": 139,
      "outputs": []
    },
    {
      "cell_type": "markdown",
      "metadata": {
        "id": "mA65Rp5tRah_"
      },
      "source": [
        "Training Loop"
      ]
    },
    {
      "cell_type": "code",
      "metadata": {
        "id": "g5JjC_HbRa4O"
      },
      "source": [
        "def train(dataloader, model, loss_fn, optimizer):\n",
        "    size = len(dataloader.dataset)\n",
        "    model.train()\n",
        "    correct = 0\n",
        "    for batch, (X, y) in enumerate(dataloader):\n",
        "        X, y = X.to(device), y.to(device)\n",
        "\n",
        "        # Compute prediction error\n",
        "        pred = model(X)\n",
        "        loss = loss_fn(pred, y)\n",
        "\n",
        "        # Backpropagation\n",
        "        optimizer.zero_grad()\n",
        "        loss.backward()\n",
        "        optimizer.step()\n",
        "\n",
        "        if batch % 100 == 0:\n",
        "            loss, current = loss.item(), batch * len(X)\n",
        "            print(f\"loss: {loss:>7f}  [{current:>5d}/{size:>5d}]\")\n",
        "        correct += (pred.argmax(1) == y).type(torch.float).sum().item()\n",
        "    correct /= size\n",
        "    return (100*correct), loss"
      ],
      "execution_count": 140,
      "outputs": []
    },
    {
      "cell_type": "markdown",
      "metadata": {
        "id": "ycTXIO6lRkIp"
      },
      "source": [
        "Testing Loop"
      ]
    },
    {
      "cell_type": "code",
      "metadata": {
        "id": "iz_N28hRRkfu"
      },
      "source": [
        "def test(dataloader, model, loss_fn):\n",
        "    size = len(dataloader.dataset)\n",
        "    num_batches = len(dataloader)\n",
        "    model.eval()\n",
        "    test_loss, correct = 0, 0\n",
        "    with torch.no_grad():\n",
        "        for X, y in dataloader:\n",
        "            X, y = X.to(device), y.to(device)\n",
        "            pred = model(X)\n",
        "            test_loss += loss_fn(pred, y).item()\n",
        "            correct += (pred.argmax(1) == y).type(torch.float).sum().item()\n",
        "    test_loss /= num_batches\n",
        "    correct /= size\n",
        "    print(f\"Test Error: \\n Accuracy: {(100*correct):>0.1f}%, Avg loss: {test_loss:>8f} \\n\")\n",
        "    return (100*correct), test_loss"
      ],
      "execution_count": 141,
      "outputs": []
    },
    {
      "cell_type": "markdown",
      "metadata": {
        "id": "prfyEi7mRtm0"
      },
      "source": [
        "Running Training and Testing"
      ]
    },
    {
      "cell_type": "code",
      "metadata": {
        "colab": {
          "base_uri": "https://localhost:8080/"
        },
        "id": "LWpyyPs_Rt_H",
        "outputId": "397c172b-f676-4435-835f-aed215ea2bca"
      },
      "source": [
        "epochs = 10\n",
        "Training_accuracy=[]\n",
        "Training_loss=[]\n",
        "Testing_accuracy=[]\n",
        "Testing_loss=[]\n",
        "for t in range(epochs):\n",
        "    print(f\"Epoch {t+1}\\n-------------------------------\")\n",
        "    TrainAcc, TrainLoss = train(train_dataloader, model, loss_fn, optimizer)\n",
        "    TestAcc, TestLoss = test(test_dataloader, model, loss_fn)\n",
        "    Training_accuracy.append(TrainAcc)\n",
        "    Training_loss.append(TrainLoss)\n",
        "    Testing_accuracy.append(TestAcc)\n",
        "    Testing_loss.append(TestLoss)\n",
        "print(\"Done!\")"
      ],
      "execution_count": 142,
      "outputs": [
        {
          "output_type": "stream",
          "name": "stdout",
          "text": [
            "Epoch 1\n",
            "-------------------------------\n",
            "loss: 2.301263  [    0/60000]\n",
            "loss: 2.288278  [ 6400/60000]\n",
            "loss: 2.278436  [12800/60000]\n",
            "loss: 2.276085  [19200/60000]\n",
            "loss: 2.253812  [25600/60000]\n",
            "loss: 2.231137  [32000/60000]\n",
            "loss: 2.236620  [38400/60000]\n",
            "loss: 2.202527  [44800/60000]\n",
            "loss: 2.201487  [51200/60000]\n",
            "loss: 2.175186  [57600/60000]\n",
            "Test Error: \n",
            " Accuracy: 46.0%, Avg loss: 2.169715 \n",
            "\n",
            "Epoch 2\n",
            "-------------------------------\n",
            "loss: 2.170976  [    0/60000]\n",
            "loss: 2.164708  [ 6400/60000]\n",
            "loss: 2.118800  [12800/60000]\n",
            "loss: 2.136632  [19200/60000]\n",
            "loss: 2.093225  [25600/60000]\n",
            "loss: 2.033053  [32000/60000]\n",
            "loss: 2.056554  [38400/60000]\n",
            "loss: 1.985295  [44800/60000]\n",
            "loss: 1.995134  [51200/60000]\n",
            "loss: 1.920376  [57600/60000]\n",
            "Test Error: \n",
            " Accuracy: 59.5%, Avg loss: 1.927851 \n",
            "\n",
            "Epoch 3\n",
            "-------------------------------\n",
            "loss: 1.949764  [    0/60000]\n",
            "loss: 1.925978  [ 6400/60000]\n",
            "loss: 1.825829  [12800/60000]\n",
            "loss: 1.862493  [19200/60000]\n",
            "loss: 1.767789  [25600/60000]\n",
            "loss: 1.706251  [32000/60000]\n",
            "loss: 1.721424  [38400/60000]\n",
            "loss: 1.626319  [44800/60000]\n",
            "loss: 1.656026  [51200/60000]\n",
            "loss: 1.539643  [57600/60000]\n",
            "Test Error: \n",
            " Accuracy: 62.4%, Avg loss: 1.566986 \n",
            "\n",
            "Epoch 4\n",
            "-------------------------------\n",
            "loss: 1.624148  [    0/60000]\n",
            "loss: 1.588691  [ 6400/60000]\n",
            "loss: 1.449911  [12800/60000]\n",
            "loss: 1.517365  [19200/60000]\n",
            "loss: 1.405258  [25600/60000]\n",
            "loss: 1.389999  [32000/60000]\n",
            "loss: 1.397601  [38400/60000]\n",
            "loss: 1.320058  [44800/60000]\n",
            "loss: 1.359682  [51200/60000]\n",
            "loss: 1.253942  [57600/60000]\n",
            "Test Error: \n",
            " Accuracy: 63.6%, Avg loss: 1.282071 \n",
            "\n",
            "Epoch 5\n",
            "-------------------------------\n",
            "loss: 1.352571  [    0/60000]\n",
            "loss: 1.333633  [ 6400/60000]\n",
            "loss: 1.173306  [12800/60000]\n",
            "loss: 1.280308  [19200/60000]\n",
            "loss: 1.157297  [25600/60000]\n",
            "loss: 1.177563  [32000/60000]\n",
            "loss: 1.194597  [38400/60000]\n",
            "loss: 1.126376  [44800/60000]\n",
            "loss: 1.169071  [51200/60000]\n",
            "loss: 1.086229  [57600/60000]\n",
            "Test Error: \n",
            " Accuracy: 64.8%, Avg loss: 1.104485 \n",
            "\n",
            "Epoch 6\n",
            "-------------------------------\n",
            "loss: 1.169202  [    0/60000]\n",
            "loss: 1.172055  [ 6400/60000]\n",
            "loss: 0.992373  [12800/60000]\n",
            "loss: 1.134354  [19200/60000]\n",
            "loss: 1.007380  [25600/60000]\n",
            "loss: 1.036643  [32000/60000]\n",
            "loss: 1.070677  [38400/60000]\n",
            "loss: 1.004516  [44800/60000]\n",
            "loss: 1.047578  [51200/60000]\n",
            "loss: 0.982693  [57600/60000]\n",
            "Test Error: \n",
            " Accuracy: 66.4%, Avg loss: 0.991490 \n",
            "\n",
            "Epoch 7\n",
            "-------------------------------\n",
            "loss: 1.044184  [    0/60000]\n",
            "loss: 1.068879  [ 6400/60000]\n",
            "loss: 0.869953  [12800/60000]\n",
            "loss: 1.037901  [19200/60000]\n",
            "loss: 0.915043  [25600/60000]\n",
            "loss: 0.938457  [32000/60000]\n",
            "loss: 0.990032  [38400/60000]\n",
            "loss: 0.925424  [44800/60000]\n",
            "loss: 0.964446  [51200/60000]\n",
            "loss: 0.914005  [57600/60000]\n",
            "Test Error: \n",
            " Accuracy: 67.9%, Avg loss: 0.914738 \n",
            "\n",
            "Epoch 8\n",
            "-------------------------------\n",
            "loss: 0.952995  [    0/60000]\n",
            "loss: 0.997931  [ 6400/60000]\n",
            "loss: 0.782254  [12800/60000]\n",
            "loss: 0.969297  [19200/60000]\n",
            "loss: 0.853945  [25600/60000]\n",
            "loss: 0.866726  [32000/60000]\n",
            "loss: 0.933291  [38400/60000]\n",
            "loss: 0.872221  [44800/60000]\n",
            "loss: 0.904714  [51200/60000]\n",
            "loss: 0.864676  [57600/60000]\n",
            "Test Error: \n",
            " Accuracy: 69.3%, Avg loss: 0.859450 \n",
            "\n",
            "Epoch 9\n",
            "-------------------------------\n",
            "loss: 0.882807  [    0/60000]\n",
            "loss: 0.945163  [ 6400/60000]\n",
            "loss: 0.716728  [12800/60000]\n",
            "loss: 0.918237  [19200/60000]\n",
            "loss: 0.810658  [25600/60000]\n",
            "loss: 0.812596  [32000/60000]\n",
            "loss: 0.890430  [38400/60000]\n",
            "loss: 0.835042  [44800/60000]\n",
            "loss: 0.860400  [51200/60000]\n",
            "loss: 0.826558  [57600/60000]\n",
            "Test Error: \n",
            " Accuracy: 70.8%, Avg loss: 0.817604 \n",
            "\n",
            "Epoch 10\n",
            "-------------------------------\n",
            "loss: 0.826757  [    0/60000]\n",
            "loss: 0.903077  [ 6400/60000]\n",
            "loss: 0.666041  [12800/60000]\n",
            "loss: 0.878895  [19200/60000]\n",
            "loss: 0.777752  [25600/60000]\n",
            "loss: 0.770826  [32000/60000]\n",
            "loss: 0.855845  [38400/60000]\n",
            "loss: 0.807835  [44800/60000]\n",
            "loss: 0.826094  [51200/60000]\n",
            "loss: 0.795556  [57600/60000]\n",
            "Test Error: \n",
            " Accuracy: 71.9%, Avg loss: 0.784428 \n",
            "\n",
            "Done!\n"
          ]
        }
      ]
    },
    {
      "cell_type": "markdown",
      "metadata": {
        "id": "VEyKrWKfpAb3"
      },
      "source": [
        "**Plotting Accuracy Curves**"
      ]
    },
    {
      "cell_type": "code",
      "metadata": {
        "colab": {
          "base_uri": "https://localhost:8080/",
          "height": 279
        },
        "id": "_bOoi0hppJML",
        "outputId": "1e1776a9-3f10-42fd-da4c-d5ab41fb7d33"
      },
      "source": [
        "epochs = range(len(Training_accuracy))\n",
        "plt.plot(epochs, Training_accuracy,'--s',label='Train')\n",
        "plt.plot(epochs, Testing_accuracy,':o',label='Test')\n",
        "plt.xlabel(\"epochs\")\n",
        "plt.ylabel(\"Accuracy\")\n",
        "plt.legend()\n",
        "plt.show()"
      ],
      "execution_count": 144,
      "outputs": [
        {
          "output_type": "display_data",
          "data": {
            "image/png": "[encoded data removed]",
            "text/plain": [
              "<Figure size 432x288 with 1 Axes>"
            ]
          },
          "metadata": {
            "needs_background": "light"
          }
        }
      ]
    },
    {
      "cell_type": "markdown",
      "metadata": {
        "id": "tW-pI8nhSxvC"
      },
      "source": [
        "**Saving Models**"
      ]
    },
    {
      "cell_type": "code",
      "metadata": {
        "colab": {
          "base_uri": "https://localhost:8080/"
        },
        "id": "SvWEMdT-SyEj",
        "outputId": "8288e10c-82d8-4a3e-b9a3-f618b6a871fa"
      },
      "source": [
        "torch.save(model.state_dict(), \"model.pth\")\n",
        "print(\"Saved PyTorch Model State to model.pth\")"
      ],
      "execution_count": 111,
      "outputs": [
        {
          "output_type": "stream",
          "name": "stdout",
          "text": [
            "Saved PyTorch Model State to model.pth\n"
          ]
        }
      ]
    },
    {
      "cell_type": "markdown",
      "metadata": {
        "id": "x3cO38O4S6wb"
      },
      "source": [
        "**Loading Models**"
      ]
    },
    {
      "cell_type": "code",
      "metadata": {
        "colab": {
          "base_uri": "https://localhost:8080/"
        },
        "id": "7cPRxNFAS89E",
        "outputId": "3720ddcb-3d4d-420b-b2a5-83b8d86d426c"
      },
      "source": [
        "model = NeuralNetwork()\n",
        "model.load_state_dict(torch.load(\"model.pth\"))"
      ],
      "execution_count": 112,
      "outputs": [
        {
          "output_type": "execute_result",
          "data": {
            "text/plain": [
              "<All keys matched successfully>"
            ]
          },
          "metadata": {},
          "execution_count": 112
        }
      ]
    },
    {
      "cell_type": "markdown",
      "metadata": {
        "id": "VYXUaMhyTI8n"
      },
      "source": [
        "**Predictions**\n",
        "\n",
        "This model can now be used to make predictions."
      ]
    },
    {
      "cell_type": "code",
      "metadata": {
        "colab": {
          "base_uri": "https://localhost:8080/"
        },
        "id": "Ms65bRhxTbxi",
        "outputId": "0dabe6d2-11bf-4897-b1f0-df08bd70071a"
      },
      "source": [
        "classes = [\n",
        "    \"T-shirt/top\",\n",
        "    \"Trouser\",\n",
        "    \"Pullover\",\n",
        "    \"Dress\",\n",
        "    \"Coat\",\n",
        "    \"Sandal\",\n",
        "    \"Shirt\",\n",
        "    \"Sneaker\",\n",
        "    \"Bag\",\n",
        "    \"Ankle boot\",\n",
        "]\n",
        "\n",
        "model.eval()\n",
        "x, y = test_data[0][0], test_data[0][1]\n",
        "with torch.no_grad():\n",
        "    pred = model(x)\n",
        "    predicted, actual = classes[pred[0].argmax(0)], classes[y]\n",
        "    print(f'Predicted: \"{predicted}\", Actual: \"{actual}\"')"
      ],
      "execution_count": 113,
      "outputs": [
        {
          "output_type": "stream",
          "name": "stdout",
          "text": [
            "Predicted: \"Ankle boot\", Actual: \"Ankle boot\"\n"
          ]
        }
      ]
    }
  ]
}